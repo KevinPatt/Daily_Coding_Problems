{
 "cells": [
  {
   "cell_type": "markdown",
   "metadata": {},
   "source": [
    "### Daily Coding Problem: Problem #2"
   ]
  },
  {
   "cell_type": "raw",
   "metadata": {},
   "source": [
    "This problem was asked by Uber.\r\n",
    "\r\n",
    "Given an array of integers, return a new array such that each element at index i \r\n",
    "of the new array is the product of all the numbers in the original array except\r\n",
    "the one at i.\r\n",
    "\r\n",
    "For example, if our input was [1, 2, 3, 4, 5], the expected output would be \r\n",
    "[120, 60, 40, 30, 24]. If our input was [3, 2, 1], the expected output would be \r\n",
    "[2, 3, 6].\r\n",
    "\r\n",
    "Follow-up: what if you can't use division?"
   ]
  },
  {
   "cell_type": "code",
   "execution_count": null,
   "metadata": {},
   "outputs": [],
   "source": []
  }
 ],
 "metadata": {},
 "nbformat": 4,
 "nbformat_minor": 2
}
