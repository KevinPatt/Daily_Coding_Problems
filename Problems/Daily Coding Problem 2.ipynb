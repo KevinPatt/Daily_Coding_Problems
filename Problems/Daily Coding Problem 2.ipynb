{
 "cells": [
  {
   "cell_type": "markdown",
   "metadata": {},
   "source": [
    "### Daily Coding Problem: Problem #2"
   ]
  },
  {
   "cell_type": "raw",
   "metadata": {},
   "source": [
    "This problem was asked by Uber.\n",
    "\n",
    "Given an array of integers, return a new array such that each element at index i \n",
    "of the new array is the product of all the numbers in the original array except\n",
    "the one at i.\n",
    "\n",
    "For example, if our input was [1, 2, 3, 4, 5], the expected output would be \n",
    "[120, 60, 40, 30, 24]. If our input was [3, 2, 1], the expected output would be \n",
    "[2, 3, 6].\n",
    "\n",
    "Follow-up: what if you can't use division?"
   ]
  },
  {
   "cell_type": "code",
   "execution_count": 1,
   "metadata": {},
   "outputs": [
    {
     "data": {
      "text/plain": [
       "[120, 60, 40, 30, 24]"
      ]
     },
     "execution_count": 1,
     "metadata": {},
     "output_type": "execute_result"
    }
   ],
   "source": [
    "num_list = [1, 2, 3, 4, 5]\n",
    "prod_list = []\n",
    "\n",
    "for i in num_list:\n",
    "    prod = 1\n",
    "    for num in num_list:\n",
    "        prod *= num\n",
    "    prod /= i\n",
    "    prod_list.append(int(prod))\n",
    "    \n",
    "prod_list"
   ]
  },
  {
   "cell_type": "code",
   "execution_count": 2,
   "metadata": {},
   "outputs": [
    {
     "data": {
      "text/plain": [
       "[2, 3, 6]"
      ]
     },
     "execution_count": 2,
     "metadata": {},
     "output_type": "execute_result"
    }
   ],
   "source": [
    "num_list = [3,2,1]\n",
    "prod_list = []\n",
    "\n",
    "pos = 0\n",
    "for i in num_list:\n",
    "    prod = 1\n",
    "    for num in num_list[:pos] + num_list[pos+1:]:\n",
    "        prod *= num\n",
    "    prod_list.append(prod)\n",
    "    pos += 1\n",
    "    \n",
    "prod_list "
   ]
  },
  {
   "cell_type": "code",
   "execution_count": null,
   "metadata": {},
   "outputs": [],
   "source": []
  }
 ],
 "metadata": {
  "kernelspec": {
   "display_name": "Python 3",
   "language": "python",
   "name": "python3"
  },
  "language_info": {
   "codemirror_mode": {
    "name": "ipython",
    "version": 3
   },
   "file_extension": ".py",
   "mimetype": "text/x-python",
   "name": "python",
   "nbconvert_exporter": "python",
   "pygments_lexer": "ipython3",
   "version": "3.7.2"
  }
 },
 "nbformat": 4,
 "nbformat_minor": 2
}
