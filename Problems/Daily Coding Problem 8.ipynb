{
 "cells": [
  {
   "cell_type": "markdown",
   "metadata": {},
   "source": [
    "### Daily Coding Problem: Problem #8"
   ]
  },
  {
   "cell_type": "raw",
   "metadata": {},
   "source": [
    "This problem was asked by Google.\r\n",
    "\r\n",
    "A unival tree (which stands for \"universal value\") is a tree where all nodes\r\n",
    "under it have the same value.\r\n",
    "\r\n",
    "Given the root to a binary tree, count the number of unival subtrees.\r\n",
    "\r\n",
    "For example, the following tree has 5 unival subtrees:\r\n",
    "\r\n",
    "   0\r\n",
    "  / \\\r\n",
    " 1   0\r\n",
    "    / \\\r\n",
    "   1   0\r\n",
    "  / \\\r\n",
    " 1   1"
   ]
  },
  {
   "cell_type": "code",
   "execution_count": null,
   "metadata": {},
   "outputs": [],
   "source": []
  }
 ],
 "metadata": {},
 "nbformat": 4,
 "nbformat_minor": 2
}
