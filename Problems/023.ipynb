{
 "cells": [
  {
   "cell_type": "markdown",
   "metadata": {},
   "source": [
    "### Daily Coding Problem: Problem #23"
   ]
  },
  {
   "cell_type": "raw",
   "metadata": {},
   "source": [
    "This problem was asked by Google.\r\n",
    "\r\n",
    "You are given an M by N matrix consisting of booleans that represents a board.\r\n",
    "Each True boolean represents a wall. Each False boolean represents a tile you\r\n",
    "can walk on.\r\n",
    "\r\n",
    "Given this matrix, a start coordinate, and an end coordinate, return the minimum\r\n",
    "number of steps required to reach the end coordinate from the start. If there is\r\n",
    "no possible path, then return null. You can move up, left, down, and right. You\r\n",
    "cannot move through walls. You cannot wrap around the edges of the board.\r\n",
    "\r\n",
    "For example, given the following board:\r\n",
    "\r\n",
    "[[f, f, f, f],\r\n",
    "[t, t, f, t],\r\n",
    "[f, f, f, f],\r\n",
    "[f, f, f, f]]\r\n",
    "\r\n",
    "\r\n",
    "and start = (3, 0) (bottom left) and end = (0, 0) (top left), the minimum number\r\n",
    "of steps required to reach the end is 7, since we would need to go through (1,\r\n",
    "2) because there is a wall everywhere else on the second row."
   ]
  },
  {
   "cell_type": "code",
   "execution_count": null,
   "metadata": {},
   "outputs": [],
   "source": []
  }
 ],
 "metadata": {},
 "nbformat": 4,
 "nbformat_minor": 2
}
