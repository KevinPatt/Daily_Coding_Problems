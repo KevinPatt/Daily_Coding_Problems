{
 "cells": [
  {
   "cell_type": "markdown",
   "metadata": {},
   "source": [
    "### Daily Coding Problem: Problem #25"
   ]
  },
  {
   "cell_type": "raw",
   "metadata": {},
   "source": [
    "This problem was asked by Facebook.\r\n",
    "\r\n",
    "Implement regular expression matching with the following special characters:\r\n",
    "\r\n",
    " * . (period) which matches any single character\r\n",
    " * * (asterisk) which matches zero or more of the preceding element\r\n",
    "\r\n",
    "That is, implement a function that takes in a string and a valid regular\r\n",
    "expression and returns whether or not the string matches the regular expression.\r\n",
    "\r\n",
    "For example, given the regular expression \"ra.\" and the string \"ray\", your\r\n",
    "function should return true. The same regular expression on the string \"raymond\"\r\n",
    "should return false.\r\n",
    "\r\n",
    "Given the regular expression \".*at\" and the string \"chat\", your function should\r\n",
    "return true. The same regular expression on the string \"chats\" should return\r\n",
    "false."
   ]
  },
  {
   "cell_type": "code",
   "execution_count": null,
   "metadata": {},
   "outputs": [],
   "source": []
  }
 ],
 "metadata": {},
 "nbformat": 4,
 "nbformat_minor": 2
}
