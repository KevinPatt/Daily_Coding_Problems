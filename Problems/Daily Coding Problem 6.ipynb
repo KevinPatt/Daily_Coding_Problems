{
 "cells": [
  {
   "cell_type": "markdown",
   "metadata": {},
   "source": [
    "### Daily Coding Problem: Problem #6"
   ]
  },
  {
   "cell_type": "raw",
   "metadata": {},
   "source": [
    "This problem was asked by Google.\r\n",
    "\r\n",
    "An XOR linked list is a more memory efficient doubly linked list. Instead of\r\n",
    "each node holding next and prev fields, it holds a field named both, which is an\r\n",
    "XOR of the next node and the previous node. Implement an XOR linked list; it has\r\n",
    "an add(element) which adds the element to the end, and a get(index) which\r\n",
    "returns the node at index.\r\n",
    "\r\n",
    "If using a language that has no pointers (such as Python), you can assume you\r\n",
    "have access to get_pointer anddereference_pointer functions that converts\r\n",
    "between nodes and memory addresses."
   ]
  },
  {
   "cell_type": "code",
   "execution_count": null,
   "metadata": {},
   "outputs": [],
   "source": []
  }
 ],
 "metadata": {},
 "nbformat": 4,
 "nbformat_minor": 2
}
