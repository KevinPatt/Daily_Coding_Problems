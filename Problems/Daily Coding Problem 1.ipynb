{
 "cells": [
  {
   "cell_type": "markdown",
   "metadata": {},
   "source": [
    "### Daily Coding Problem: Problem #1"
   ]
  },
  {
   "cell_type": "raw",
   "metadata": {},
   "source": [
    "This problem was recently asked by Google.\r\n",
    "\r\n",
    "Given a list of numbers and a number k, return whether any two numbers from the\r\n",
    "list add up to k.\r\n",
    "\r\n",
    "For example, given [10, 15, 3, 7] and k of 17, return true since 10 + 7 is 17.\r\n",
    "\r\n",
    "Bonus: Can you do this in one pass?"
   ]
  },
  {
   "cell_type": "code",
   "execution_count": null,
   "metadata": {},
   "outputs": [],
   "source": []
  }
 ],
 "metadata": {},
 "nbformat": 4,
 "nbformat_minor": 2
}
