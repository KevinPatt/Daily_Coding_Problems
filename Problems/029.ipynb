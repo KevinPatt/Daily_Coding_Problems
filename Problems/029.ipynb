{
 "cells": [
  {
   "cell_type": "markdown",
   "metadata": {},
   "source": [
    "### Daily Coding Problem: Problem #29"
   ]
  },
  {
   "cell_type": "raw",
   "metadata": {},
   "source": [
    "This problem was asked by Amazon.\r\n",
    "\r\n",
    "Run-length encoding is a fast and simple method of encoding strings. The basic\r\n",
    "idea is to represent repeated successive characters as a single count and\r\n",
    "character. For example, the string \"AAAABBBCCDAA\" would be encoded as\r\n",
    "\"4A3B2C1D2A\".\r\n",
    "\r\n",
    "Implement run-length encoding and decoding. You can assume the string to be\r\n",
    "encoded have no digits and consists solely of alphabetic characters. You can\r\n",
    "assume the string to be decoded is valid."
   ]
  },
  {
   "cell_type": "code",
   "execution_count": null,
   "metadata": {},
   "outputs": [],
   "source": []
  }
 ],
 "metadata": {},
 "nbformat": 4,
 "nbformat_minor": 2
}
