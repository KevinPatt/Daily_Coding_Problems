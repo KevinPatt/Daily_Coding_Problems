{
 "cells": [
  {
   "cell_type": "markdown",
   "metadata": {},
   "source": [
    "### Daily Coding Problem: Problem #30"
   ]
  },
  {
   "cell_type": "raw",
   "metadata": {},
   "source": [
    "This problem was asked by Facebook.\r\n",
    "\r\n",
    "You are given an array of non-negative integers that represents a\r\n",
    "two-dimensional elevation map where each element is unit-width wall and the\r\n",
    "integer is the height. Suppose it will rain and all spots between two walls get\r\n",
    "filled up.\r\n",
    "\r\n",
    "Compute how many units of water remain trapped on the map in O(N) time and O(1)\r\n",
    "space.\r\n",
    "\r\n",
    "For example, given the input [2, 1, 2], we can hold 1 unit of water in the\r\n",
    "middle.\r\n",
    "\r\n",
    "Given the input [3, 0, 1, 3, 0, 5], we can hold 3 units in the first index, 2 in\r\n",
    "the second, and 3 in the fourth index (we cannot hold 5 since it would run off\r\n",
    "to the left), so we can trap 8 units of water."
   ]
  },
  {
   "cell_type": "code",
   "execution_count": null,
   "metadata": {},
   "outputs": [],
   "source": []
  }
 ],
 "metadata": {},
 "nbformat": 4,
 "nbformat_minor": 2
}
