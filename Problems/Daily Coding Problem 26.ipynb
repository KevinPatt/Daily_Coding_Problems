{
 "cells": [
  {
   "cell_type": "markdown",
   "metadata": {},
   "source": [
    "### Daily Coding Problem: Problem #26"
   ]
  },
  {
   "cell_type": "raw",
   "metadata": {},
   "source": [
    "This problem was asked by Google.\r\n",
    "\r\n",
    "Given a singly linked list and an integer k, remove the kth last element from\r\n",
    "the list. k is guaranteed to be smaller than the length of the list.\r\n",
    "\r\n",
    "The list is very long, so making more than one pass is prohibitively expensive.\r\n",
    "\r\n",
    "Do this in constant space and in one pass."
   ]
  },
  {
   "cell_type": "code",
   "execution_count": null,
   "metadata": {},
   "outputs": [],
   "source": []
  }
 ],
 "metadata": {},
 "nbformat": 4,
 "nbformat_minor": 2
}
