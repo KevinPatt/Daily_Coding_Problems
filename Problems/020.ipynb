{
 "cells": [
  {
   "cell_type": "markdown",
   "metadata": {},
   "source": [
    "### Daily Coding Problem: Problem #20"
   ]
  },
  {
   "cell_type": "raw",
   "metadata": {},
   "source": [
    "This problem was asked by Google.\r\n",
    "\r\n",
    "Given two singly linked lists that intersect at some point, find the\r\n",
    "intersecting node. The lists are non-cyclical.\r\n",
    "\r\n",
    "For example, given A = 3 -> 7 -> 8 -> 10 and B = 99 -> 1 -> 8 -> 10, return the\r\n",
    "node with value 8.\r\n",
    "\r\n",
    "In this example, assume nodes with the same value are the exact same node\r\n",
    "objects.\r\n",
    "\r\n",
    "Do this in O(M + N) time (where M and N are the lengths of the lists) and\r\n",
    "constant space."
   ]
  },
  {
   "cell_type": "code",
   "execution_count": null,
   "metadata": {},
   "outputs": [],
   "source": []
  }
 ],
 "metadata": {},
 "nbformat": 4,
 "nbformat_minor": 2
}
