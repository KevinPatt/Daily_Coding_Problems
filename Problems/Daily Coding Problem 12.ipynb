{
 "cells": [
  {
   "cell_type": "markdown",
   "metadata": {},
   "source": [
    "### Daily Coding Problem: Problem #12"
   ]
  },
  {
   "cell_type": "raw",
   "metadata": {},
   "source": [
    "This problem was asked by Amazon.\r\n",
    "\r\n",
    "There exists a staircase with N steps, and you can climb up either 1 or 2 steps\r\n",
    "at a time. Given N, write a function that returns the number of unique ways you\r\n",
    "can climb the staircase. The order of the steps matters.\r\n",
    "\r\n",
    "For example, if N is 4, then there are 5 unique ways:\r\n",
    "\r\n",
    " * 1, 1, 1, 1\r\n",
    " * 2, 1, 1\r\n",
    " * 1, 2, 1\r\n",
    " * 1, 1, 2\r\n",
    " * 2, 2\r\n",
    "\r\n",
    "What if, instead of being able to climb 1 or 2 steps at a time, you could climb\r\n",
    "any number from a set of positive integers X? For example, if X = {1, 3, 5}, you\r\n",
    "could climb 1, 3, or 5 steps at a time."
   ]
  },
  {
   "cell_type": "code",
   "execution_count": null,
   "metadata": {},
   "outputs": [],
   "source": []
  }
 ],
 "metadata": {},
 "nbformat": 4,
 "nbformat_minor": 2
}
