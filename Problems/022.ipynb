{
 "cells": [
  {
   "cell_type": "markdown",
   "metadata": {},
   "source": [
    "### Daily Coding Problem: Problem #22"
   ]
  },
  {
   "cell_type": "raw",
   "metadata": {},
   "source": [
    "This problem was asked by Microsoft.\r\n",
    "\r\n",
    "Given a dictionary of words and a string made up of those words (no spaces),\r\n",
    "return the original sentence in a list. If there is more than one possible\r\n",
    "reconstruction, return any of them. If there is no possible reconstruction, then\r\n",
    "return null.\r\n",
    "\r\n",
    "For example, given the set of words 'quick', 'brown', 'the', 'fox', and the\r\n",
    "string \"thequickbrownfox\", you should return ['the', 'quick', 'brown', 'fox'].\r\n",
    "\r\n",
    "Given the set of words 'bed', 'bath', 'bedbath', 'and', 'beyond', and the string\r\n",
    "\"bedbathandbeyond\", return either ['bed', 'bath', 'and', 'beyond] or ['bedbath',\r\n",
    "'and', 'beyond']."
   ]
  },
  {
   "cell_type": "code",
   "execution_count": null,
   "metadata": {},
   "outputs": [],
   "source": []
  }
 ],
 "metadata": {},
 "nbformat": 4,
 "nbformat_minor": 2
}
