{
 "cells": [
  {
   "cell_type": "markdown",
   "metadata": {},
   "source": [
    "### Daily Coding Problem: Problem #11"
   ]
  },
  {
   "cell_type": "raw",
   "metadata": {},
   "source": [
    "This problem was asked by Twitter.\r\n",
    "\r\n",
    "Implement an autocomplete system. That is, given a query string s and a set of\r\n",
    "all possible query strings, return all strings in the set that have s as a\r\n",
    "prefix.\r\n",
    "\r\n",
    "For example, given the query string de and the set of strings [dog, deer, deal],\r\n",
    "return [deer, deal].\r\n",
    "\r\n",
    "Hint: Try preprocessing the dictionary into a more efficient data structure to\r\n",
    "speed up queries."
   ]
  },
  {
   "cell_type": "code",
   "execution_count": null,
   "metadata": {},
   "outputs": [],
   "source": []
  }
 ],
 "metadata": {},
 "nbformat": 4,
 "nbformat_minor": 2
}
