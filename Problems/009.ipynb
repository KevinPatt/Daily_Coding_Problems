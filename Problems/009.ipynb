{
 "cells": [
  {
   "cell_type": "markdown",
   "metadata": {},
   "source": [
    "### Daily Coding Problem: Problem #9"
   ]
  },
  {
   "cell_type": "raw",
   "metadata": {},
   "source": [
    "This problem was asked by Airbnb.\r\n",
    "\r\n",
    "Given a list of integers, write a function that returns the largest sum of\r\n",
    "non-adjacent numbers. Numbers can be 0 or negative.\r\n",
    "\r\n",
    "For example, [2, 4, 6, 2, 5] should return 13, since we pick 2, 6, and 5. [5, 1,\r\n",
    "1, 5] should return 10, since we pick 5 and 5.\r\n",
    "\r\n",
    "Follow-up: Can you do this in O(N) time and constant space?"
   ]
  },
  {
   "cell_type": "code",
   "execution_count": null,
   "metadata": {},
   "outputs": [],
   "source": []
  }
 ],
 "metadata": {},
 "nbformat": 4,
 "nbformat_minor": 2
}
