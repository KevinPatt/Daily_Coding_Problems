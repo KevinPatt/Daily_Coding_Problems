{
 "cells": [
  {
   "cell_type": "markdown",
   "metadata": {},
   "source": [
    "### Daily Coding Problem: Problem #16"
   ]
  },
  {
   "cell_type": "raw",
   "metadata": {},
   "source": [
    "This problem was asked by Twitter.\r\n",
    "\r\n",
    "You run an e-commerce website and want to record the last N order ids in a log.\r\n",
    "Implement a data structure to accomplish this, with the following API:\r\n",
    "\r\n",
    " * record(order_id): adds the order_id to the log\r\n",
    " * get_last(i): gets the ith last element from the log. i is guaranteed to be\r\n",
    "   smaller than or equal to N.\r\n",
    "\r\n",
    "You should be as efficient with time and space as possible."
   ]
  },
  {
   "cell_type": "code",
   "execution_count": null,
   "metadata": {},
   "outputs": [],
   "source": []
  }
 ],
 "metadata": {},
 "nbformat": 4,
 "nbformat_minor": 2
}
