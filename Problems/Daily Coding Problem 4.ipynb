{
 "cells": [
  {
   "cell_type": "markdown",
   "metadata": {},
   "source": [
    "### Daily Coding Problem: Problem #4"
   ]
  },
  {
   "cell_type": "raw",
   "metadata": {},
   "source": [
    "This problem was asked by Stripe.\r\n",
    "\r\n",
    "Given an array of integers, find the first missing positive integer in linear\r\n",
    "time and constant space. In other words, find the lowest positive integer that\r\n",
    "does not exist in the array. The array can contain duplicates and negative\r\n",
    "numbers as well.\r\n",
    "\r\n",
    "For example, the input [3, 4, -1, 1] should give 2. The input [1, 2, 0] should\r\n",
    "give 3.\r\n",
    "\r\n",
    "You can modify the input array in-place."
   ]
  },
  {
   "cell_type": "code",
   "execution_count": null,
   "metadata": {},
   "outputs": [],
   "source": []
  }
 ],
 "metadata": {},
 "nbformat": 4,
 "nbformat_minor": 2
}
