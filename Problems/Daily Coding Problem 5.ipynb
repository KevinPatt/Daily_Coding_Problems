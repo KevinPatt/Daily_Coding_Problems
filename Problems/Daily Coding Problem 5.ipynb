{
 "cells": [
  {
   "cell_type": "markdown",
   "metadata": {},
   "source": [
    "### Daily Coding Problem: Problem #5"
   ]
  },
  {
   "cell_type": "raw",
   "metadata": {},
   "source": [
    "This problem was asked by Jane Street.\r\n",
    "\r\n",
    "cons(a, b) constructs a pair, and car(pair) and cdr(pair) returns the first and\r\n",
    "last element of that pair. For example, car(cons(3, 4)) returns 3, and \r\n",
    "cdr(cons(3, 4)) returns 4.\r\n",
    "\r\n",
    "Given this implementation of cons:\r\n",
    "\r\n",
    "def cons(a, b):\r\n",
    "    def pair(f):\r\n",
    "        return f(a, b)\r\n",
    "    return pair\r\n",
    "\r\n",
    "\r\n",
    "Implement car and cdr."
   ]
  },
  {
   "cell_type": "code",
   "execution_count": null,
   "metadata": {},
   "outputs": [],
   "source": []
  }
 ],
 "metadata": {},
 "nbformat": 4,
 "nbformat_minor": 2
}
