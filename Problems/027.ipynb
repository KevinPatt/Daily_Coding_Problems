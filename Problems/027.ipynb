{
 "cells": [
  {
   "cell_type": "markdown",
   "metadata": {},
   "source": [
    "### Daily Coding Problem: Problem #27"
   ]
  },
  {
   "cell_type": "raw",
   "metadata": {},
   "source": [
    "This problem was asked by Facebook.\r\n",
    "\r\n",
    "Given a string of round, curly, and square open and closing brackets, return\r\n",
    "whether the brackets are balanced (well-formed).\r\n",
    "\r\n",
    "For example, given the string \"([])[]({})\", you should return true.\r\n",
    "\r\n",
    "Given the string \"([)]\" or \"((()\", you should return false."
   ]
  },
  {
   "cell_type": "code",
   "execution_count": null,
   "metadata": {},
   "outputs": [],
   "source": []
  }
 ],
 "metadata": {},
 "nbformat": 4,
 "nbformat_minor": 2
}
