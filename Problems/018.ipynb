{
 "cells": [
  {
   "cell_type": "markdown",
   "metadata": {},
   "source": [
    "### Daily Coding Problem: Problem #18"
   ]
  },
  {
   "cell_type": "raw",
   "metadata": {},
   "source": [
    "This problem was asked by Google.\r\n",
    "\r\n",
    "Given an array of integers and a number k, where 1 <= k <= length of the array,\r\n",
    "compute the maximum values of each subarray of length k.\r\n",
    "\r\n",
    "For example, given array = [10, 5, 2, 7, 8, 7] and k = 3, we should get: [10, 7,\r\n",
    "8, 8], since:\r\n",
    "\r\n",
    " * 10 = max(10, 5, 2)\r\n",
    " * 7 = max(5, 2, 7)\r\n",
    " * 8 = max(2, 7, 8)\r\n",
    " * 8 = max(7, 8, 7)\r\n",
    "\r\n",
    "Do this in O(n) time and O(k) space. You can modify the input array in-place and\r\n",
    "you do not need to store the results. You can simply print them out as you\r\n",
    "compute them."
   ]
  },
  {
   "cell_type": "code",
   "execution_count": null,
   "metadata": {},
   "outputs": [],
   "source": []
  }
 ],
 "metadata": {},
 "nbformat": 4,
 "nbformat_minor": 2
}
