{
 "cells": [
  {
   "cell_type": "markdown",
   "metadata": {},
   "source": [
    "### Daily Coding Problem: Problem #3"
   ]
  },
  {
   "cell_type": "raw",
   "metadata": {},
   "source": [
    "This problem was asked by Google.\r\n",
    "\r\n",
    "Given the root to a binary tree, implement serialize(root), which serializes the\r\n",
    "tree into a string, and deserialize(s), which deserializes the string back into\r\n",
    "the tree.\r\n",
    "\r\n",
    "For example, given the following Node class\r\n",
    "\r\n",
    "class Node:\r\n",
    "    def __init__(self, val, left=None, right=None):\r\n",
    "        self.val = val\r\n",
    "        self.left = left\r\n",
    "        self.right = right\r\n",
    "\r\n",
    "\r\n",
    "The following test should pass:\r\n",
    "\r\n",
    "node = Node('root', Node('left', Node('left.left')), Node('right'))\r\n",
    "assert deserialize(serialize(node)).left.left.val == 'left.left'"
   ]
  },
  {
   "cell_type": "code",
   "execution_count": null,
   "metadata": {},
   "outputs": [],
   "source": []
  }
 ],
 "metadata": {},
 "nbformat": 4,
 "nbformat_minor": 2
}
