{
 "cells": [
  {
   "cell_type": "markdown",
   "metadata": {},
   "source": [
    "### Daily Coding Problem: Problem #24"
   ]
  },
  {
   "cell_type": "raw",
   "metadata": {},
   "source": [
    "This problem was asked by Google.\r\n",
    "\r\n",
    "Implement locking in a binary tree. A binary tree node can be locked or unlocked\r\n",
    "only if all of its descendants or ancestors are not locked.\r\n",
    "\r\n",
    "Design a binary tree node class with the following methods:\r\n",
    "\r\n",
    " * is_locked, which returns whether the node is locked\r\n",
    " * lock, which attempts to lock the node. If it cannot be locked, then it should\r\n",
    "   return false. Otherwise, it should lock it and return true.\r\n",
    " * unlock, which unlocks the node. If it cannot be unlocked, then it should\r\n",
    "   return false. Otherwise, it should unlock it and return true.\r\n",
    "\r\n",
    "You may augment the node to add parent pointers or any other property you would\r\n",
    "like. You may assume the class is used in a single-threaded program, so there is\r\n",
    "no need for actual locks or mutexes. Each method should run in O(h), where h is\r\n",
    "the height of the tree."
   ]
  },
  {
   "cell_type": "code",
   "execution_count": null,
   "metadata": {},
   "outputs": [],
   "source": []
  }
 ],
 "metadata": {},
 "nbformat": 4,
 "nbformat_minor": 2
}
