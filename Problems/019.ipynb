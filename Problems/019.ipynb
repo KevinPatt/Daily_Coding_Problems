{
 "cells": [
  {
   "cell_type": "markdown",
   "metadata": {},
   "source": [
    "### Daily Coding Problem: Problem #19"
   ]
  },
  {
   "cell_type": "raw",
   "metadata": {},
   "source": [
    "This problem was asked by Facebook.\r\n",
    "\r\n",
    "A builder is looking to build a row of N houses that can be of K different\r\n",
    "colors. He has a goal of minimizing cost while ensuring that no two neighboring\r\n",
    "houses are of the same color.\r\n",
    "\r\n",
    "Given an N by K matrix where the nth row and kth column represents the cost to\r\n",
    "build the nthhouse with kth color, return the minimum cost which achieves this\r\n",
    "goal."
   ]
  },
  {
   "cell_type": "code",
   "execution_count": null,
   "metadata": {},
   "outputs": [],
   "source": []
  }
 ],
 "metadata": {},
 "nbformat": 4,
 "nbformat_minor": 2
}
