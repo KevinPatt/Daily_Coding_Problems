{
 "cells": [
  {
   "cell_type": "markdown",
   "metadata": {},
   "source": [
    "### Daily Coding Problem: Problem #13"
   ]
  },
  {
   "cell_type": "raw",
   "metadata": {},
   "source": [
    "This problem was asked by Amazon.\r\n",
    "\r\n",
    "Given an integer k and a string s, find the length of the longest substring that\r\n",
    "contains at most k distinct characters.\r\n",
    "\r\n",
    "For example, given s = \"abcba\" and k = 2, the longest substring with k distinct\r\n",
    "characters is \"bcb\"."
   ]
  },
  {
   "cell_type": "code",
   "execution_count": null,
   "metadata": {},
   "outputs": [],
   "source": []
  }
 ],
 "metadata": {},
 "nbformat": 4,
 "nbformat_minor": 2
}
