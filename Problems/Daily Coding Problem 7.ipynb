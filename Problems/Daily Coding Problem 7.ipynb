{
 "cells": [
  {
   "cell_type": "markdown",
   "metadata": {},
   "source": [
    "### Daily Coding Problem: Problem #7"
   ]
  },
  {
   "cell_type": "raw",
   "metadata": {},
   "source": [
    "This problem was asked by Facebook.\r\n",
    "\r\n",
    "Given the mapping a = 1, b = 2, ... z = 26, and an encoded message, count the\r\n",
    "number of ways it can be decoded.\r\n",
    "\r\n",
    "For example, the message '111' would give 3, since it could be decoded as 'aaa',\r\n",
    "'ka', and 'ak'.\r\n",
    "\r\n",
    "You can assume that the messages are decodable. For example, '001' is not\r\n",
    "allowed."
   ]
  },
  {
   "cell_type": "code",
   "execution_count": null,
   "metadata": {},
   "outputs": [],
   "source": []
  }
 ],
 "metadata": {},
 "nbformat": 4,
 "nbformat_minor": 2
}
