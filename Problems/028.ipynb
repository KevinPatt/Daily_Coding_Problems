{
 "cells": [
  {
   "cell_type": "markdown",
   "metadata": {},
   "source": [
    "### Daily Coding Problem: Problem #28"
   ]
  },
  {
   "cell_type": "raw",
   "metadata": {},
   "source": [
    "This problem was asked by Palantir.\r\n",
    "\r\n",
    "Write an algorithm to justify text. Given a sequence of words and an integer\r\n",
    "line length k, return a list of strings which represents each line, fully\r\n",
    "justified.\r\n",
    "\r\n",
    "More specifically, you should have as many words as possible in each line. There\r\n",
    "should be at least one space between each word. Pad extra spaces when necessary\r\n",
    "so that each line has exactly length k. Spaces should be distributed as equally\r\n",
    "as possible, with the extra spaces, if any, distributed starting from the left.\r\n",
    "\r\n",
    "If you can only fit one word on a line, then you should pad the right-hand side\r\n",
    "with spaces.\r\n",
    "\r\n",
    "Each word is guaranteed not to be longer than k.\r\n",
    "\r\n",
    "For example, given the list of words [\"the\", \"quick\", \"brown\", \"fox\", \"jumps\",\r\n",
    "\"over\", \"the\", \"lazy\", \"dog\"] and k = 16, you should return the following:\r\n",
    "\r\n",
    "[\"the  quick brown\", # 1 extra space on the left\r\n",
    "\"fox  jumps  over\", # 2 extra spaces distributed evenly\r\n",
    "\"the   lazy   dog\"] # 4 extra spaces distributed evenly"
   ]
  },
  {
   "cell_type": "code",
   "execution_count": null,
   "metadata": {},
   "outputs": [],
   "source": []
  }
 ],
 "metadata": {},
 "nbformat": 4,
 "nbformat_minor": 2
}
