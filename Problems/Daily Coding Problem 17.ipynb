{
 "cells": [
  {
   "cell_type": "markdown",
   "metadata": {},
   "source": [
    "### Daily Coding Problem: Problem #17"
   ]
  },
  {
   "cell_type": "raw",
   "metadata": {},
   "source": [
    "This problem was asked by Google.\r\n",
    "\r\n",
    "Suppose we represent our file system by a string in the following manner:\r\n",
    "\r\n",
    "The string \"dir\\n\\tsubdir1\\n\\tsubdir2\\n\\t\\tfile.ext\" represents:\r\n",
    "\r\n",
    "dir\r\n",
    "    subdir1\r\n",
    "    subdir2\r\n",
    "        file.ext\r\n",
    "\r\n",
    "\r\n",
    "The directory dir contains an empty sub-directory subdir1 and a sub-directory \r\n",
    "subdir2 containing a file file.ext.\r\n",
    "\r\n",
    "The string \r\n",
    "\"dir\\n\\tsubdir1\\n\\t\\tfile1.ext\\n\\t\\tsubsubdir1\\n\\tsubdir2\\n\\t\\tsubsubdir2\\n\\t\\t\\tfile2.ext\" \r\n",
    "represents:\r\n",
    "\r\n",
    "dir\r\n",
    "    subdir1\r\n",
    "        file1.ext\r\n",
    "        subsubdir1\r\n",
    "    subdir2\r\n",
    "        subsubdir2\r\n",
    "            file2.ext\r\n",
    "\r\n",
    "\r\n",
    "The directory dir contains two sub-directories subdir1 and subdir2. subdir1 \r\n",
    "contains a file file1.extand an empty second-level sub-directory subsubdir1. \r\n",
    "subdir2 contains a second-level sub-directorysubsubdir2 containing a file \r\n",
    "file2.ext.\r\n",
    "\r\n",
    "We are interested in finding the longest (number of characters) absolute path to\r\n",
    "a file within our file system. For example, in the second example above, the\r\n",
    "longest absolute path is \"dir/subdir2/subsubdir2/file2.ext\", and its length is\r\n",
    "32 (not including the double quotes).\r\n",
    "\r\n",
    "Given a string representing the file system in the above format, return the\r\n",
    "length of the longest absolute path to a file in the abstracted file system. If\r\n",
    "there is no file in the system, return 0.\r\n",
    "\r\n",
    "Note:\r\n",
    "\r\n",
    "The name of a file contains at least a period and an extension.\r\n",
    "\r\n",
    "The name of a directory or sub-directory will not contain a period."
   ]
  },
  {
   "cell_type": "code",
   "execution_count": null,
   "metadata": {},
   "outputs": [],
   "source": []
  }
 ],
 "metadata": {},
 "nbformat": 4,
 "nbformat_minor": 2
}
